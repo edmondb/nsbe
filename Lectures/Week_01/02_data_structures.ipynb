{
 "cells": [
  {
   "cell_type": "markdown",
   "metadata": {
    "slideshow": {
     "slide_type": "slide"
    }
   },
   "source": [
    "![NASA](http://www.nasa.gov/sites/all/themes/custom/nasatwo/images/nasa-logo.svg)\n",
    "![FIRENSBE JR](../../firensbe_jr.png)\n",
    "\n",
    "---\n",
    "\n",
    "# Data Structures\n",
    "\n",
    "### Goddard Space Flight Center\n",
    "\n",
    "#### September 24, 2016"
   ]
  },
  {
   "cell_type": "markdown",
   "metadata": {
    "slideshow": {
     "slide_type": "slide"
    }
   },
   "source": [
    "# Iterables\n",
    "\n",
    "---\n",
    "\n",
    "Lists, Tuples, and Dictionaries"
   ]
  },
  {
   "cell_type": "markdown",
   "metadata": {
    "slideshow": {
     "slide_type": "subslide"
    }
   },
   "source": [
    "# Lists\n",
    "\n",
    "---\n",
    "\n",
    "Think, grocery lists.\n",
    "\n",
    "* stores elements sequentially\n",
    "* need to perform a search to find an element (sometimes slow)\n",
    "* can add/remove items (mutable), loop/iterate upon, and sort"
   ]
  },
  {
   "cell_type": "code",
   "execution_count": null,
   "metadata": {
    "collapsed": true,
    "slideshow": {
     "slide_type": "fragment"
    }
   },
   "outputs": [],
   "source": [
    "groceries = ['eggs', 'milk', 'bacon'] # because, who doesn't like bacon?"
   ]
  },
  {
   "cell_type": "code",
   "execution_count": null,
   "metadata": {
    "collapsed": true,
    "slideshow": {
     "slide_type": "subslide"
    }
   },
   "outputs": [],
   "source": [
    "# What if we forgot something?\n",
    "groceries.append('coffee')\n",
    "\n",
    "# if we don't want something\n",
    "groceries.remove('eggs')\n",
    "\n",
    "# and so much more!"
   ]
  },
  {
   "cell_type": "code",
   "execution_count": null,
   "metadata": {
    "collapsed": true,
    "slideshow": {
     "slide_type": "subslide"
    }
   },
   "outputs": [],
   "source": [
    "L = []          # declare empty list\n",
    "L.append(1.2)   # add a number 1.2\n",
    "L.append('a')   # add a text element\n",
    "L[0] = 1.3      # change an item\n",
    "del L[1]        # delete an item\n",
    "len(L)          # length of list\n",
    "L.count(x)      # count the number of times x occurs\n",
    "L.index(x)      # return the index of the first occurrence of x\n",
    "L.remove(x)     # delete the first occurrence of x\n",
    "L.reverse()     # reverse the order of elements in the list\n",
    "L = ['a'] + ['b'] # can combine two lists together"
   ]
  },
  {
   "cell_type": "markdown",
   "metadata": {
    "slideshow": {
     "slide_type": "subslide"
    }
   },
   "source": [
    "# Slicing\n",
    "\n",
    "---\n",
    "\n",
    "```\n",
    " +---+---+---+---+---+---+  \n",
    " | P | y | t | h | o | n |  \n",
    " +---+---+---+---+---+---+  \n",
    " 0   1   2   3   4   5   6  \n",
    "-6  -5  -4  -3  -2  -1\n",
    "```\n",
    "\n",
    "In Python, indexes start at 0, not 1. The above shows slicing on a string, but we can also slice lists and tuples."
   ]
  },
  {
   "cell_type": "code",
   "execution_count": null,
   "metadata": {
    "collapsed": true,
    "slideshow": {
     "slide_type": "subslide"
    }
   },
   "outputs": [],
   "source": [
    "print(groceries)\n",
    "print(groceries[0])\n",
    "print(groceries[-1])\n",
    "print(groceries[2])\n",
    "print(groceries[:2])\n",
    "print(groceries[-3:])\n",
    "print(groceries[10])\n",
    "print(groceries[::2])"
   ]
  },
  {
   "cell_type": "markdown",
   "metadata": {
    "slideshow": {
     "slide_type": "subslide"
    }
   },
   "source": [
    "# Tuples\n",
    "\n",
    "---\n",
    "\n",
    "Like permanent lists. These are IMUTABLE, but faster than lists.\n",
    "\n",
    "```python\n",
    "numbers = (1,2,3)\n",
    "first, second, third = numbers\n",
    "```"
   ]
  },
  {
   "cell_type": "markdown",
   "metadata": {
    "slideshow": {
     "slide_type": "subslide"
    }
   },
   "source": [
    "# Dictionaries\n",
    "\n",
    "---\n",
    "\n",
    "Literally, think a dictionary. We have keys (i.e., the words of a dictionary) and value pairs (the definitions)."
   ]
  },
  {
   "cell_type": "code",
   "execution_count": null,
   "metadata": {
    "collapsed": true,
    "slideshow": {
     "slide_type": "fragment"
    }
   },
   "outputs": [],
   "source": [
    "d = {'key1':'value', 'key2':20, 'key3':['a', 'list'], 'key5':{'a':'nested','dictionary':'!'}}\n",
    "d = dict(key1=3, key2='value', key3=True)\n",
    "print(d['key3'])\n",
    "print(d.keys())\n",
    "print(d.items())"
   ]
  },
  {
   "cell_type": "markdown",
   "metadata": {
    "slideshow": {
     "slide_type": "subslide"
    }
   },
   "source": [
    "# Recap\n",
    "\n",
    "---\n",
    "\n",
    "Mutable:\n",
    "* Lists\n",
    "* Dictionaries\n",
    "\n",
    "Immutable:\n",
    "* Strings\n",
    "* Tuples"
   ]
  }
 ],
 "metadata": {
  "celltoolbar": "Slideshow",
  "kernelspec": {
   "display_name": "Python 2",
   "language": "python",
   "name": "python2"
  },
  "language_info": {
   "codemirror_mode": {
    "name": "ipython",
    "version": 2
   },
   "file_extension": ".py",
   "mimetype": "text/x-python",
   "name": "python",
   "nbconvert_exporter": "python",
   "pygments_lexer": "ipython2",
   "version": "2.7.11"
  }
 },
 "nbformat": 4,
 "nbformat_minor": 0
}
