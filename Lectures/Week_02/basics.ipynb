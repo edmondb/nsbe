{
 "cells": [
  {
   "cell_type": "markdown",
   "metadata": {
    "nbpresent": {
     "id": "3a471130-3476-4fdd-8197-5483adcb8674"
    },
    "slideshow": {
     "slide_type": "slide"
    }
   },
   "source": [
    "![NASA](http://www.nasa.gov/sites/all/themes/custom/nasatwo/images/nasa-logo.svg)\n",
    "![FIRENSBE JR](../../firensbe_jr.png)\n",
    "\n",
    "---\n",
    "\n",
    "# Introduction (Part 2)\n",
    "\n",
    "### Goddard Space Flight Center\n",
    "\n",
    "#### October 8, 2016"
   ]
  },
  {
   "cell_type": "markdown",
   "metadata": {
    "slideshow": {
     "slide_type": "slide"
    }
   },
   "source": [
    "# Doing things a little different...\n",
    "\n",
    "---\n",
    "\n",
    "1. Form 5 teams.\n",
    "2. Need a team captain to present solutions."
   ]
  },
  {
   "cell_type": "markdown",
   "metadata": {
    "slideshow": {
     "slide_type": "slide"
    }
   },
   "source": [
    "# Python Basics\n",
    "\n",
    "---"
   ]
  },
  {
   "cell_type": "code",
   "execution_count": null,
   "metadata": {
    "collapsed": false,
    "slideshow": {
     "slide_type": "subslide"
    }
   },
   "outputs": [],
   "source": [
    "# Python as a calculator\n",
    "result = 49 + 32 / 2 ** 3\n",
    "\n",
    "print(result)"
   ]
  },
  {
   "cell_type": "code",
   "execution_count": null,
   "metadata": {
    "collapsed": true,
    "slideshow": {
     "slide_type": "subslide"
    }
   },
   "outputs": [],
   "source": [
    "# Scientific calculations as well\n",
    "import math\n",
    "import numpy as np\n",
    "\n",
    "print(np.cos(2*np.pi))"
   ]
  },
  {
   "cell_type": "markdown",
   "metadata": {
    "slideshow": {
     "slide_type": "subslide"
    }
   },
   "source": [
    "# Can you explain why this happens?\n",
    "\n",
    "---"
   ]
  },
  {
   "cell_type": "code",
   "execution_count": 1,
   "metadata": {
    "collapsed": false,
    "slideshow": {
     "slide_type": "subslide"
    }
   },
   "outputs": [
    {
     "ename": "TypeError",
     "evalue": "can't multiply sequence by non-int of type 'float'",
     "output_type": "error",
     "traceback": [
      "\u001b[0;31m---------------------------------------------------------------------------\u001b[0m",
      "\u001b[0;31mTypeError\u001b[0m                                 Traceback (most recent call last)",
      "\u001b[0;32m<ipython-input-1-4f16b358a97c>\u001b[0m in \u001b[0;36m<module>\u001b[0;34m()\u001b[0m\n\u001b[1;32m      1\u001b[0m \u001b[0mb\u001b[0m \u001b[0;34m=\u001b[0m \u001b[0;34m'1.2'\u001b[0m\u001b[0;34m\u001b[0m\u001b[0m\n\u001b[0;32m----> 2\u001b[0;31m \u001b[0ma\u001b[0m \u001b[0;34m=\u001b[0m \u001b[0;36m0.5\u001b[0m \u001b[0;34m*\u001b[0m \u001b[0mb\u001b[0m\u001b[0;34m\u001b[0m\u001b[0m\n\u001b[0m",
      "\u001b[0;31mTypeError\u001b[0m: can't multiply sequence by non-int of type 'float'"
     ]
    }
   ],
   "source": [
    "b = '1.2'\n",
    "a = 0.5 * b"
   ]
  },
  {
   "cell_type": "markdown",
   "metadata": {
    "slideshow": {
     "slide_type": "subslide"
    }
   },
   "source": [
    "# Data Types\n",
    "\n",
    "---\n",
    "\n",
    "* Lists (Mutable)\n",
    "\n",
    "    ```python\n",
    "    a_list = ['item1', 'item2', 'item3', 'item4']\n",
    "    ```\n",
    "* Dictionaries (Mutable)\n",
    "\n",
    "    ```python\n",
    "    a_dict = {'key':'value', 'key2':['content','ooo'], 'number':1}\n",
    "    ```\n",
    "\n",
    "* Tuple (Immutable)\n",
    "\n",
    "    ```python\n",
    "    a_tuple = ('these','''don't''', \"change\")\n",
    "    ```"
   ]
  },
  {
   "cell_type": "markdown",
   "metadata": {
    "slideshow": {
     "slide_type": "subslide"
    }
   },
   "source": [
    "# How might we add to a list?\n",
    "\n",
    "---"
   ]
  },
  {
   "cell_type": "code",
   "execution_count": null,
   "metadata": {
    "collapsed": false,
    "slideshow": {
     "slide_type": "fragment"
    }
   },
   "outputs": [],
   "source": [
    "a_list = []\n",
    "print(a_list)\n",
    "\n",
    "a_list.append('new item')\n",
    "print(a_list)"
   ]
  },
  {
   "cell_type": "markdown",
   "metadata": {
    "slideshow": {
     "slide_type": "subslide"
    }
   },
   "source": [
    "# Slicing\n",
    "\n",
    "---"
   ]
  },
  {
   "cell_type": "raw",
   "metadata": {
    "slideshow": {
     "slide_type": "fragment"
    }
   },
   "source": [
    " +---+---+---+---+---+---+\n",
    " | P | y | t | h | o | n |\n",
    " +---+---+---+---+---+---+\n",
    " 0   1   2   3   4   5   6\n",
    "-6  -5  -4  -3  -2  -1"
   ]
  },
  {
   "cell_type": "markdown",
   "metadata": {
    "slideshow": {
     "slide_type": "subslide"
    }
   },
   "source": [
    "# Give the output:\n",
    "\n",
    "---"
   ]
  },
  {
   "cell_type": "code",
   "execution_count": null,
   "metadata": {
    "collapsed": false,
    "slideshow": {
     "slide_type": "fragment"
    }
   },
   "outputs": [],
   "source": [
    "string = 'FIRENSBE_JR'\n",
    "string = list(string)\n",
    "\n",
    "print(string[:4])"
   ]
  },
  {
   "cell_type": "markdown",
   "metadata": {
    "slideshow": {
     "slide_type": "slide"
    }
   },
   "source": [
    "# Conditionals\n",
    "\n",
    "---\n",
    "\n",
    "What does the following print?"
   ]
  },
  {
   "cell_type": "code",
   "execution_count": null,
   "metadata": {
    "collapsed": false,
    "slideshow": {
     "slide_type": "fragment"
    }
   },
   "outputs": [],
   "source": [
    "x = 20\n",
    "\n",
    "if x < 2:\n",
    "    print('I am Mr. Small.')\n",
    "elif x == 7:\n",
    "    print('I am Optimus Prime.')\n",
    "else:\n",
    "    print('I am Batman.')"
   ]
  },
  {
   "cell_type": "markdown",
   "metadata": {
    "slideshow": {
     "slide_type": "slide"
    }
   },
   "source": [
    "# Loops\n",
    "\n",
    "---\n",
    "\n",
    "Doing things over and over..."
   ]
  },
  {
   "cell_type": "code",
   "execution_count": 9,
   "metadata": {
    "collapsed": false,
    "slideshow": {
     "slide_type": "subslide"
    }
   },
   "outputs": [
    {
     "name": "stdout",
     "output_type": "stream",
     "text": [
      "Turn number 1 was to the right.\n",
      "Turn number 2 was to the right.\n",
      "Turn number 3 was to the left.\n",
      "Turn number 4 was to the right.\n",
      "Turn number 5 was to the right.\n",
      "Turn number 6 was to the right.\n",
      "Turn number 7 was to the right.\n",
      "Turn number 8 was to the left.\n",
      "Turn number 9 was to the right.\n",
      "Turn number 10 was to the left.\n"
     ]
    }
   ],
   "source": [
    "import random\n",
    "\n",
    "for turn in range(10):\n",
    "    r = random.randint(0,1)\n",
    "    if r:\n",
    "        print('Turn number '+str(turn+1)+' was to the right.')\n",
    "    else:\n",
    "        print('Turn number '+str(turn+1)+' was to the left.')"
   ]
  },
  {
   "cell_type": "markdown",
   "metadata": {
    "slideshow": {
     "slide_type": "subslide"
    }
   },
   "source": [
    "# How might we make a car go in circle?\n",
    "\n",
    "---"
   ]
  },
  {
   "cell_type": "code",
   "execution_count": null,
   "metadata": {
    "collapsed": false,
    "slideshow": {
     "slide_type": "fragment"
    }
   },
   "outputs": [],
   "source": [
    "exit = raw_input('Do you want to exit the circle? (y/n) ')\n",
    "\n",
    "while exit != 'y':\n",
    "    exit = raw_input('Do you want to exit the circle? (y/n) ')"
   ]
  }
 ],
 "metadata": {
  "anaconda-cloud": {},
  "celltoolbar": "Slideshow",
  "kernelspec": {
   "display_name": "Python [Root]",
   "language": "python",
   "name": "Python [Root]"
  },
  "language_info": {
   "codemirror_mode": {
    "name": "ipython",
    "version": 2
   },
   "file_extension": ".py",
   "mimetype": "text/x-python",
   "name": "python",
   "nbconvert_exporter": "python",
   "pygments_lexer": "ipython2",
   "version": "2.7.12"
  },
  "nbpresent": {
   "slides": {},
   "themes": {
    "default": "62eba2fd-3ce3-480c-a2b0-2f1b4757383b",
    "theme": {}
   }
  }
 },
 "nbformat": 4,
 "nbformat_minor": 0
}
